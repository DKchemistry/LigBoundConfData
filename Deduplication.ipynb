{
 "cells": [
  {
   "cell_type": "markdown",
   "metadata": {},
   "source": [
    "In previous work, I had issues in mergin docking and strain data due to duplication issues. \n",
    "\n",
    "It is easier to deduplicate in a seperate session and have the final files for use in the Enrichment_Metrics.ipynb. \n",
    "\n",
    "The duplicates were caused by LigPrep, beginning at the `actives.smi` and `inactives.smi` files. \n",
    "\n",
    "The `actives.smi` file has defined stereochemistry (likely where known) and protomers (assuming some sort of physiological pH) protonation. `inactives.smi` does as well, which implies to me there was some sort of stereochemical and physiological pH protonation performed and saved as the underlying smiles. "
   ]
  },
  {
   "cell_type": "code",
   "execution_count": 7,
   "metadata": {
    "vscode": {
     "languageId": "shellscript"
    }
   },
   "outputs": [
    {
     "name": "stdout",
     "output_type": "stream",
     "text": [
      "Protation and stereochemistry found by linecount in actives.smi\n",
      "       8\n",
      "       3\n",
      "Protation and stereochemistry found by linecount in inactives.smi\n",
      "   64226\n",
      "    6412\n"
     ]
    }
   ],
   "source": [
    "!echo \"Protonation and stereochemistry found by linecount in actives.smi\"\n",
    "!grep '\\+' actives.smi | wc -l\n",
    "!grep '@' actives.smi | wc -l\n",
    "\n",
    "!echo \"Protonation and stereochemistry found by linecount in inactives.smi\"\n",
    "!grep '\\+' inactives.smi | wc -l\n",
    "!grep '@' inactives.smi | wc -l\n"
   ]
  },
  {
   "cell_type": "markdown",
   "metadata": {},
   "source": [
    "However, there are cases where stereochemistry is unassigned. "
   ]
  },
  {
   "cell_type": "code",
   "execution_count": 18,
   "metadata": {},
   "outputs": [
    {
     "name": "stdout",
     "output_type": "stream",
     "text": [
      "Molecule 4242585 has unassigned stereocenters.\n",
      "Molecule 4248922 has unassigned stereocenters.\n",
      "Molecule 11532953 has unassigned stereocenters.\n",
      "Molecule 14721919 has unassigned stereocenters.\n",
      "Molecule 14733740 has unassigned stereocenters.\n",
      "Molecule 24781607 has unassigned stereocenters.\n",
      "Molecule 24781610 has unassigned stereocenters.\n",
      "Molecule 24824326 has unassigned stereocenters.\n",
      "Molecule 26732625 has unassigned stereocenters.\n",
      "Molecule 49819640 has unassigned stereocenters.\n",
      "Molecule 51085197 has unassigned stereocenters.\n"
     ]
    }
   ],
   "source": [
    "def check_unassigned_stereocenters(filename):\n",
    "    \"\"\"\n",
    "    Reads an .smi file and checks for unassigned stereocenters in the first 100 molecules.\n",
    "\n",
    "    Parameters:\n",
    "    filename (str): The name of the .smi file.\n",
    "\n",
    "    Returns:\n",
    "    None\n",
    "    \"\"\"\n",
    "    supplier = Chem.SmilesMolSupplier(filename, delimiter=' ', titleLine=False)\n",
    "\n",
    "    for i, mol in enumerate(supplier):\n",
    "        if i >= 100:\n",
    "            break\n",
    "        if mol is not None:\n",
    "            chiral_centers = Chem.FindMolChiralCenters(mol, includeUnassigned=True)\n",
    "            if len(chiral_centers) > 0:\n",
    "                print(f\"Molecule {mol.GetProp('_Name')} has unassigned stereocenters.\")\n",
    "\n",
    "check_unassigned_stereocenters('actives.smi')"
   ]
  },
  {
   "cell_type": "code",
   "execution_count": 19,
   "metadata": {},
   "outputs": [
    {
     "name": "stdout",
     "output_type": "stream",
     "text": [
      "Molecule 51090810 has unassigned stereocenters.\n",
      "Molecule 51090809 has unassigned stereocenters.\n",
      "Molecule 51090784 has unassigned stereocenters.\n",
      "Molecule 51090782 has unassigned stereocenters.\n",
      "Molecule 51090781 has unassigned stereocenters.\n",
      "Molecule 51090779 has unassigned stereocenters.\n",
      "Molecule 51090748 has unassigned stereocenters.\n",
      "Molecule 51090729 has unassigned stereocenters.\n",
      "Molecule 51090728 has unassigned stereocenters.\n",
      "Molecule 51090722 has unassigned stereocenters.\n",
      "Molecule 51090699 has unassigned stereocenters.\n",
      "Molecule 51090693 has unassigned stereocenters.\n",
      "Molecule 51090692 has unassigned stereocenters.\n",
      "Molecule 51090689 has unassigned stereocenters.\n",
      "Molecule 51090672 has unassigned stereocenters.\n",
      "Molecule 51090666 has unassigned stereocenters.\n",
      "Molecule 51090659 has unassigned stereocenters.\n",
      "Molecule 51090658 has unassigned stereocenters.\n",
      "Molecule 51090654 has unassigned stereocenters.\n",
      "Molecule 51090630 has unassigned stereocenters.\n",
      "Molecule 51090628 has unassigned stereocenters.\n",
      "Molecule 51090626 has unassigned stereocenters.\n",
      "Molecule 51090618 has unassigned stereocenters.\n",
      "Molecule 51090610 has unassigned stereocenters.\n",
      "Molecule 51090608 has unassigned stereocenters.\n",
      "Molecule 51090606 has unassigned stereocenters.\n",
      "Molecule 51090605 has unassigned stereocenters.\n",
      "Molecule 51090603 has unassigned stereocenters.\n",
      "Molecule 51090601 has unassigned stereocenters.\n",
      "Molecule 51090580 has unassigned stereocenters.\n",
      "Molecule 51090567 has unassigned stereocenters.\n",
      "Molecule 51090565 has unassigned stereocenters.\n",
      "Molecule 51090560 has unassigned stereocenters.\n",
      "Molecule 51090556 has unassigned stereocenters.\n",
      "Molecule 51090543 has unassigned stereocenters.\n",
      "Molecule 51090537 has unassigned stereocenters.\n",
      "Molecule 51090536 has unassigned stereocenters.\n"
     ]
    }
   ],
   "source": [
    "check_unassigned_stereocenters('inactives.smi')"
   ]
  },
  {
   "cell_type": "markdown",
   "metadata": {},
   "source": [
    "So, in the future, we should revise our LigPrep to only enumerate unassigned stereochemistry, but keep the given protomer. I can discuss this more with the team. It is unlikely that all the stereoisomers of a given chiral active are 'true positives' (which will affect enrichment), but this is not easily assessed without checking the LIT-PCBA methodology or checking the source of the chiral active itself (was it resolved and tested?). For now, we will accept this inaccuracy until the team can have their input. \n",
    "\n",
    "For now, to do our Enrichment metrics, we need to deduplicate the data. The biggest issue is when we pd.merge() the docking and strain data that both contain duplicate Molecule_Names, which leads to an explosion to duplicates. So, we need to drop the duplicates from both sets prior to the merge. \n",
    "\n",
    "The SDF files needs to be deduplicated by Molecule_Name. We could try to do something like a straightforward 'deduplicate by keeping the best docking score', but that could have weird behavior (like active chirality issue above). Still, this is a fast method to get to Enrichment Metrics. A more complicated approach is to find some retained data/metric that has the protomer probability. \n",
    "\n",
    "Let's start by dropping by docking score. "
   ]
  },
  {
   "cell_type": "code",
   "execution_count": 21,
   "metadata": {},
   "outputs": [],
   "source": [
    "import pickle \n",
    "\n",
    "def load_from_pickle(filename):\n",
    "    with open(filename, \"rb\") as f:\n",
    "        df = pickle.load(f)\n",
    "    return df\n",
    "\n",
    "# Load from pickle\n",
    "active = load_from_pickle(\"67B3_actives.pkl\")\n",
    "inactive = load_from_pickle(\"67B3_inactives.pkl\")"
   ]
  },
  {
   "cell_type": "code",
   "execution_count": 22,
   "metadata": {},
   "outputs": [],
   "source": [
    "# Convert the 'Title' column to a string in both dataframes\n",
    "active[\"Title\"] = active[\"Title\"].astype(str)\n",
    "inactive[\"Title\"] = inactive[\"Title\"].astype(str)\n",
    "\n",
    "# Rename the 'Title' column to 'Molecule_Name' in both dataframes\n",
    "active.rename(columns={\"Title\": \"Molecule_Name\"}, inplace=True)\n",
    "inactive.rename(columns={\"Title\": \"Molecule_Name\"}, inplace=True)"
   ]
  },
  {
   "cell_type": "code",
   "execution_count": 28,
   "metadata": {},
   "outputs": [
    {
     "data": {
      "text/plain": [
       "0   -8.36082\n",
       "1   -8.31699\n",
       "2   -7.92756\n",
       "3   -7.82703\n",
       "4   -7.62963\n",
       "Name: r_i_docking_score, dtype: float64"
      ]
     },
     "metadata": {},
     "output_type": "display_data"
    },
    {
     "data": {
      "text/plain": [
       "0   -11.3790\n",
       "1   -11.0561\n",
       "2   -10.9274\n",
       "3   -10.8396\n",
       "4   -10.6551\n",
       "Name: r_i_docking_score, dtype: float64"
      ]
     },
     "metadata": {},
     "output_type": "display_data"
    }
   ],
   "source": [
    "#Sort to retain by lowest docking score, lowest to highest (asecending)\n",
    "actives_docking = active.sort_values('r_i_docking_score').copy()\n",
    "inactives_docking = inactive.sort_values('r_i_docking_score').copy()\n",
    "\n",
    "display(actives_docking['r_i_docking_score'].head())\n",
    "display(inactives_docking['r_i_docking_score'].head())"
   ]
  },
  {
   "cell_type": "code",
   "execution_count": 29,
   "metadata": {},
   "outputs": [],
   "source": [
    "# Drop duplicates based on the 'Molecule_Name' column in both dataframes\n",
    "# Keep the first instance of the duplicate (lowest docking score)\n",
    "actives_docking.drop_duplicates(subset='Molecule_Name', keep='first', inplace=True)\n",
    "inactives_docking.drop_duplicates(subset='Molecule_Name', keep='first', inplace=True)\n"
   ]
  },
  {
   "cell_type": "markdown",
   "metadata": {},
   "source": [
    "Now, we need to write them back as SDF files, so we can use the torsion scripts. This is definitely not ideal, but as a first pass this is fine. We'll use the Mol column we have. "
   ]
  },
  {
   "cell_type": "code",
   "execution_count": 32,
   "metadata": {},
   "outputs": [
    {
     "data": {
      "text/html": [
       "<div>\n",
       "<style scoped>\n",
       "    .dataframe tbody tr th:only-of-type {\n",
       "        vertical-align: middle;\n",
       "    }\n",
       "\n",
       "    .dataframe tbody tr th {\n",
       "        vertical-align: top;\n",
       "    }\n",
       "\n",
       "    .dataframe thead th {\n",
       "        text-align: right;\n",
       "    }\n",
       "</style>\n",
       "<table border=\"1\" class=\"dataframe\">\n",
       "  <thead>\n",
       "    <tr style=\"text-align: right;\">\n",
       "      <th></th>\n",
       "      <th>Molecule_Name</th>\n",
       "      <th>Mol</th>\n",
       "      <th>Activity</th>\n",
       "      <th>i_epik_Tot_Q</th>\n",
       "      <th>i_epik_Tot_abs_Q</th>\n",
       "      <th>i_i_glide_confnum</th>\n",
       "      <th>i_i_glide_lignum</th>\n",
       "      <th>i_i_glide_posenum</th>\n",
       "      <th>i_i_glide_rotatable_bonds</th>\n",
       "      <th>i_lp_mmshare_version</th>\n",
       "      <th>...</th>\n",
       "      <th>r_i_glide_rewards</th>\n",
       "      <th>r_lp_Energy</th>\n",
       "      <th>r_lp_tautomer_probability</th>\n",
       "      <th>s_epik_cmdline</th>\n",
       "      <th>s_epik_input</th>\n",
       "      <th>s_i_glide_gridfile</th>\n",
       "      <th>s_lp_Force_Field</th>\n",
       "      <th>s_lp_Variant</th>\n",
       "      <th>s_m_source_file</th>\n",
       "      <th>s_epik_Chemistry_Notes</th>\n",
       "    </tr>\n",
       "  </thead>\n",
       "  <tbody>\n",
       "    <tr>\n",
       "      <th>0</th>\n",
       "      <td>49819640</td>\n",
       "      <td>&lt;rdkit.Chem.rdchem.Mol object at 0x28ed24130&gt;</td>\n",
       "      <td>1</td>\n",
       "      <td>1</td>\n",
       "      <td>1</td>\n",
       "      <td>152</td>\n",
       "      <td>33</td>\n",
       "      <td>258</td>\n",
       "      <td>9</td>\n",
       "      <td>53161</td>\n",
       "      <td>...</td>\n",
       "      <td>-1.62181</td>\n",
       "      <td>38.239346</td>\n",
       "      <td>1.0</td>\n",
       "      <td>J2VwaWtfcHl0aG9uJywgJy1waCcsICc3LjAnLCAnLXRuJy...</td>\n",
       "      <td>W2NIXTFbY0hdYyhGKVtjSF1bY0hdYzFbTkhdQyg9TylbQ0...</td>\n",
       "      <td>glide-grid_67B3_PL_Complex</td>\n",
       "      <td>S-OPLS</td>\n",
       "      <td>49819640-1</td>\n",
       "      <td>actives.smi</td>\n",
       "      <td>NaN</td>\n",
       "    </tr>\n",
       "  </tbody>\n",
       "</table>\n",
       "<p>1 rows × 44 columns</p>\n",
       "</div>"
      ],
      "text/plain": [
       "  Molecule_Name                                            Mol  Activity  \\\n",
       "0      49819640  <rdkit.Chem.rdchem.Mol object at 0x28ed24130>         1   \n",
       "\n",
       "   i_epik_Tot_Q  i_epik_Tot_abs_Q  i_i_glide_confnum  i_i_glide_lignum  \\\n",
       "0             1                 1                152                33   \n",
       "\n",
       "   i_i_glide_posenum  i_i_glide_rotatable_bonds  i_lp_mmshare_version  ...  \\\n",
       "0                258                          9                 53161  ...   \n",
       "\n",
       "   r_i_glide_rewards  r_lp_Energy  r_lp_tautomer_probability  \\\n",
       "0           -1.62181    38.239346                        1.0   \n",
       "\n",
       "                                      s_epik_cmdline  \\\n",
       "0  J2VwaWtfcHl0aG9uJywgJy1waCcsICc3LjAnLCAnLXRuJy...   \n",
       "\n",
       "                                        s_epik_input  \\\n",
       "0  W2NIXTFbY0hdYyhGKVtjSF1bY0hdYzFbTkhdQyg9TylbQ0...   \n",
       "\n",
       "           s_i_glide_gridfile s_lp_Force_Field s_lp_Variant  s_m_source_file  \\\n",
       "0  glide-grid_67B3_PL_Complex           S-OPLS   49819640-1      actives.smi   \n",
       "\n",
       "   s_epik_Chemistry_Notes  \n",
       "0                     NaN  \n",
       "\n",
       "[1 rows x 44 columns]"
      ]
     },
     "execution_count": 32,
     "metadata": {},
     "output_type": "execute_result"
    }
   ],
   "source": [
    "actives_docking.head(n=1)"
   ]
  },
  {
   "cell_type": "code",
   "execution_count": 33,
   "metadata": {},
   "outputs": [
    {
     "data": {
      "text/plain": [
       "Index(['Molecule_Name', 'Mol', 'Activity', 'i_epik_Tot_Q', 'i_epik_Tot_abs_Q',\n",
       "       'i_i_glide_confnum', 'i_i_glide_lignum', 'i_i_glide_posenum',\n",
       "       'i_i_glide_rotatable_bonds', 'i_lp_mmshare_version',\n",
       "       'i_m_source_file_index', 'i_f3d_flags', 'b_lp_Chiralities_Consistent',\n",
       "       'r_epik_Charging_Adjusted_Penalty', 'r_epik_Ionization_Penalty',\n",
       "       'r_epik_Ionization_Penalty_Charging',\n",
       "       'r_epik_Ionization_Penalty_Neutral', 'r_epik_State_Penalty',\n",
       "       'r_i_docking_score', 'r_i_glide_ecoul', 'r_i_glide_eff_state_penalty',\n",
       "       'r_i_glide_einternal', 'r_i_glide_emodel', 'r_i_glide_energy',\n",
       "       'r_i_glide_erotb', 'r_i_glide_esite', 'r_i_glide_evdw',\n",
       "       'r_i_glide_gscore', 'r_i_glide_hbond', 'r_i_glide_ligand_efficiency',\n",
       "       'r_i_glide_ligand_efficiency_ln', 'r_i_glide_ligand_efficiency_sa',\n",
       "       'r_i_glide_lipo', 'r_i_glide_metal', 'r_i_glide_rewards', 'r_lp_Energy',\n",
       "       'r_lp_tautomer_probability', 's_epik_cmdline', 's_epik_input',\n",
       "       's_i_glide_gridfile', 's_lp_Force_Field', 's_lp_Variant',\n",
       "       's_m_source_file', 's_epik_Chemistry_Notes'],\n",
       "      dtype='object')"
      ]
     },
     "execution_count": 33,
     "metadata": {},
     "output_type": "execute_result"
    }
   ],
   "source": [
    "active.columns"
   ]
  },
  {
   "cell_type": "markdown",
   "metadata": {},
   "source": [
    "The issue is writing the sdf is going to take forever and I don't want to do that. Then, I'll need to load those sdfs back as dataframes and concat them, which is also going to be really annoying. \n",
    "\n",
    "I can't figure out how to drop duplicate titles directly via Schrodinger tools and their documentation is useless. So the only approach I actually have is above. Otherwise I have to do the above. \n",
    "\n",
    "I can just arbitarily drop them from the sdf and merge, but the strain data has duplicate entries and I have no idea how to deduplicate that in the same order it arrived. \n",
    "\n",
    "Inactive Docking dataset: 262197\n",
    "OPRK1_inactives_strain dataset: 262190\n",
    "\n",
    "Going through all of the effort to deduplicate by writing the sdfs -> running torsion strain -> loading the sdfs back (+ making mol objects) -> recombining it into a dataset seems like a waste of time. I think it is better to try to do the fast merge by keeping the first appearence of the title and move on.\n",
    "\n",
    "Acutally, it's going to be very annoying regardless because everytime a stereocenter was enumerated, it did not update the title field to reflect that. I can't, at this point, know the original chirality. I can still do this merge but the results are even less reasonable. \n",
    "\n",
    "It really sucks but the only real way to do this now is to just enumerate the stereochemistry like I do in DeepDocking, then generate the single most probably structure by ligprep from scratch, then dock from scratch. I hate that. \n",
    "\n",
    "Let's do the fast merge and set up all those jobs so I can work on enrichment. \n",
    "\n"
   ]
  },
  {
   "cell_type": "code",
   "execution_count": 34,
   "metadata": {},
   "outputs": [],
   "source": [
    "def concatenate_csv_files(file_list):\n",
    "    \"\"\"\n",
    "    Concatenates multiple strain CSV files into a single dataframe.\n",
    "    Only the first five columns are kept for now. \n",
    "\n",
    "    Args:\n",
    "        file_list (list): A list of file paths to the CSV files.\n",
    "\n",
    "    Returns:\n",
    "        pandas.DataFrame: The concatenated dataframe.\n",
    "    \"\"\"\n",
    "\n",
    "    # Specify the column names\n",
    "    column_names = [\n",
    "        \"Molecule_Name\",\n",
    "        \"Total_E\",\n",
    "        \"Lower_Bound\",\n",
    "        \"Upper_Bound\",\n",
    "        \"Num_Torsion_Patterns\",\n",
    "    ]\n",
    "\n",
    "    # List to hold dataframes\n",
    "    df_list = []\n",
    "\n",
    "    # Loop over each file in the list\n",
    "    for file in file_list:\n",
    "        # Import the CSV file as a df, using only the first five columns of the CSV file\n",
    "        df = pd.read_csv(file, usecols=range(5), names=column_names, header=0)\n",
    "        df_list.append(df)\n",
    "\n",
    "    # Concatenate all dataframes in the list\n",
    "    final_df = pd.concat(df_list, ignore_index=True)\n",
    "\n",
    "    return final_df\n",
    "\n"
   ]
  },
  {
   "cell_type": "code",
   "execution_count": 38,
   "metadata": {},
   "outputs": [
    {
     "name": "stdout",
     "output_type": "stream",
     "text": [
      "['subset_1.csv', 'subset_2.csv', 'subset_3.csv', 'subset_4.csv', 'subset_5.csv', 'subset_6.csv', 'subset_7.csv', 'subset_8.csv', 'subset_9.csv', 'subset_10.csv']\n"
     ]
    }
   ],
   "source": [
    "import glob\n",
    "import pandas as pd\n",
    "\n",
    "# Use glob to get csv files ('subset_*.csv) from the directory\n",
    "csv_files = glob.glob(\"subset_*.csv\")\n",
    "\n",
    "# Sort the list of files by the number in their names\n",
    "csv_files.sort(key=lambda x: int(x.split(\"_\")[1].split(\".\")[0]))\n",
    "\n",
    "# Check the order\n",
    "print(csv_files)\n",
    "\n",
    "# Concatenate the CSV files\n",
    "OPRK1_inactives_strain = concatenate_csv_files(csv_files)\n",
    "\n",
    "# We can still use concatenate_csv_files() to read in the active strain data\n",
    "OPRK1_actives_strain = concatenate_csv_files([\"67B3_actives.csv\"])"
   ]
  },
  {
   "cell_type": "code",
   "execution_count": 39,
   "metadata": {},
   "outputs": [],
   "source": [
    "# Molecule_Name is being read as a float, so convert it to a string \n",
    "OPRK1_inactives_strain[\"Molecule_Name\"] = OPRK1_inactives_strain[\n",
    "\"Molecule_Name\"].astype(str)\n",
    "OPRK1_actives_strain[\"Molecule_Name\"] = OPRK1_actives_strain[\"Molecule_Name\"].astype(str)\n"
   ]
  },
  {
   "cell_type": "code",
   "execution_count": 40,
   "metadata": {},
   "outputs": [],
   "source": [
    "# Deduplicate the dataframes by 'Molecule_Name', keep first instance\n",
    "OPRK1_inactives_strain.drop_duplicates(subset='Molecule_Name', keep='first', inplace=True)\n",
    "OPRK1_actives_strain.drop_duplicates(subset='Molecule_Name', keep='first', inplace=True)"
   ]
  },
  {
   "cell_type": "code",
   "execution_count": 42,
   "metadata": {},
   "outputs": [
    {
     "name": "stdout",
     "output_type": "stream",
     "text": [
      "There are 0 duplicates in the dataframe.\n",
      "There are 0 duplicates in the dataframe.\n",
      "There are 0 duplicates in the dataframe.\n",
      "There are 0 duplicates in the dataframe.\n"
     ]
    }
   ],
   "source": [
    "# Write a function to check the amount of Duplicates in the 'Molecule_Name' column in a dataframe\n",
    "def check_duplicates(df):\n",
    "    \"\"\"\n",
    "    Checks the amount of duplicates in the 'Molecule_Name' column in a dataframe.\n",
    "\n",
    "    Parameters:\n",
    "    df (pandas.DataFrame): The dataframe to check.\n",
    "\n",
    "    Returns:\n",
    "    None\n",
    "    \"\"\"\n",
    "    # Get the number of duplicates\n",
    "    num_duplicates = df.duplicated(subset=\"Molecule_Name\").sum()\n",
    "\n",
    "    # Get the name of the input dataframe\n",
    "\n",
    "\n",
    "    # Print the number of duplicates\n",
    "    print(f\"There are {num_duplicates} duplicates in the dataframe.\")\n",
    "\n",
    "check_duplicates(OPRK1_inactives_strain)\n",
    "check_duplicates(OPRK1_actives_strain)\n",
    "check_duplicates(actives_docking)\n",
    "check_duplicates(inactives_docking)\n"
   ]
  },
  {
   "cell_type": "code",
   "execution_count": 43,
   "metadata": {},
   "outputs": [],
   "source": [
    "# Merge the strain dataframes with the docking dataframes\n",
    "inactives_data = pd.merge(OPRK1_inactives_strain, inactives_docking, on='Molecule_Name')\n",
    "actives_data = pd.merge(OPRK1_actives_strain, actives_docking, on='Molecule_Name')\n"
   ]
  },
  {
   "cell_type": "code",
   "execution_count": 44,
   "metadata": {},
   "outputs": [
    {
     "name": "stdout",
     "output_type": "stream",
     "text": [
      "There are 0 duplicates in the dataframe.\n",
      "There are 0 duplicates in the dataframe.\n"
     ]
    }
   ],
   "source": [
    "check_duplicates(inactives_data)\n",
    "check_duplicates(actives_data)"
   ]
  },
  {
   "cell_type": "code",
   "execution_count": 45,
   "metadata": {},
   "outputs": [
    {
     "name": "stdout",
     "output_type": "stream",
     "text": [
      "There are 0 duplicates in the dataframe.\n"
     ]
    }
   ],
   "source": [
    "# Concat the datafranes \n",
    "final_data = pd.concat([actives_data, inactives_data], ignore_index=True)\n",
    "\n",
    "# Check for duplicates\n",
    "check_duplicates(final_data)"
   ]
  },
  {
   "cell_type": "code",
   "execution_count": 46,
   "metadata": {},
   "outputs": [
    {
     "data": {
      "text/html": [
       "<div>\n",
       "<style scoped>\n",
       "    .dataframe tbody tr th:only-of-type {\n",
       "        vertical-align: middle;\n",
       "    }\n",
       "\n",
       "    .dataframe tbody tr th {\n",
       "        vertical-align: top;\n",
       "    }\n",
       "\n",
       "    .dataframe thead th {\n",
       "        text-align: right;\n",
       "    }\n",
       "</style>\n",
       "<table border=\"1\" class=\"dataframe\">\n",
       "  <thead>\n",
       "    <tr style=\"text-align: right;\">\n",
       "      <th></th>\n",
       "      <th>Molecule_Name</th>\n",
       "      <th>Mol</th>\n",
       "      <th>Activity</th>\n",
       "      <th>r_i_docking_score</th>\n",
       "      <th>Total_E</th>\n",
       "      <th>Lower_Bound</th>\n",
       "      <th>Upper_Bound</th>\n",
       "    </tr>\n",
       "  </thead>\n",
       "  <tbody>\n",
       "    <tr>\n",
       "      <th>0</th>\n",
       "      <td>14742361</td>\n",
       "      <td>&lt;rdkit.Chem.rdchem.Mol object at 0x28ed05350&gt;</td>\n",
       "      <td>1</td>\n",
       "      <td>-8.316990</td>\n",
       "      <td>7.743401</td>\n",
       "      <td>6.452040</td>\n",
       "      <td>NaN</td>\n",
       "    </tr>\n",
       "    <tr>\n",
       "      <th>1</th>\n",
       "      <td>14721919</td>\n",
       "      <td>&lt;rdkit.Chem.rdchem.Mol object at 0x28ed06ed0&gt;</td>\n",
       "      <td>1</td>\n",
       "      <td>-7.927560</td>\n",
       "      <td>9.862600</td>\n",
       "      <td>7.793637</td>\n",
       "      <td>NaN</td>\n",
       "    </tr>\n",
       "    <tr>\n",
       "      <th>2</th>\n",
       "      <td>14733740</td>\n",
       "      <td>&lt;rdkit.Chem.rdchem.Mol object at 0x12975ba10&gt;</td>\n",
       "      <td>1</td>\n",
       "      <td>-7.827030</td>\n",
       "      <td>9.336486</td>\n",
       "      <td>7.212523</td>\n",
       "      <td>NaN</td>\n",
       "    </tr>\n",
       "    <tr>\n",
       "      <th>3</th>\n",
       "      <td>51085197</td>\n",
       "      <td>&lt;rdkit.Chem.rdchem.Mol object at 0x2a55613a0&gt;</td>\n",
       "      <td>1</td>\n",
       "      <td>-7.629630</td>\n",
       "      <td>7.962479</td>\n",
       "      <td>6.610545</td>\n",
       "      <td>inf</td>\n",
       "    </tr>\n",
       "    <tr>\n",
       "      <th>4</th>\n",
       "      <td>11532953</td>\n",
       "      <td>&lt;rdkit.Chem.rdchem.Mol object at 0x2a5561440&gt;</td>\n",
       "      <td>1</td>\n",
       "      <td>-7.589840</td>\n",
       "      <td>7.557015</td>\n",
       "      <td>5.150796</td>\n",
       "      <td>NaN</td>\n",
       "    </tr>\n",
       "    <tr>\n",
       "      <th>...</th>\n",
       "      <td>...</td>\n",
       "      <td>...</td>\n",
       "      <td>...</td>\n",
       "      <td>...</td>\n",
       "      <td>...</td>\n",
       "      <td>...</td>\n",
       "      <td>...</td>\n",
       "    </tr>\n",
       "    <tr>\n",
       "      <th>269329</th>\n",
       "      <td>26665106</td>\n",
       "      <td>&lt;rdkit.Chem.rdchem.Mol object at 0x434dac2c0&gt;</td>\n",
       "      <td>0</td>\n",
       "      <td>0.588781</td>\n",
       "      <td>0.988140</td>\n",
       "      <td>0.727169</td>\n",
       "      <td>1.279182</td>\n",
       "    </tr>\n",
       "    <tr>\n",
       "      <th>269330</th>\n",
       "      <td>860318</td>\n",
       "      <td>&lt;rdkit.Chem.rdchem.Mol object at 0x434dcc360&gt;</td>\n",
       "      <td>0</td>\n",
       "      <td>0.776713</td>\n",
       "      <td>4.875106</td>\n",
       "      <td>4.118975</td>\n",
       "      <td>NaN</td>\n",
       "    </tr>\n",
       "    <tr>\n",
       "      <th>269331</th>\n",
       "      <td>4244719</td>\n",
       "      <td>&lt;rdkit.Chem.rdchem.Mol object at 0x434d9c3b0&gt;</td>\n",
       "      <td>0</td>\n",
       "      <td>0.866768</td>\n",
       "      <td>6.162786</td>\n",
       "      <td>5.536448</td>\n",
       "      <td>inf</td>\n",
       "    </tr>\n",
       "    <tr>\n",
       "      <th>269332</th>\n",
       "      <td>26663220</td>\n",
       "      <td>&lt;rdkit.Chem.rdchem.Mol object at 0x434dac450&gt;</td>\n",
       "      <td>0</td>\n",
       "      <td>0.898282</td>\n",
       "      <td>4.117408</td>\n",
       "      <td>3.237282</td>\n",
       "      <td>NaN</td>\n",
       "    </tr>\n",
       "    <tr>\n",
       "      <th>269333</th>\n",
       "      <td>4261347</td>\n",
       "      <td>&lt;rdkit.Chem.rdchem.Mol object at 0x434dac540&gt;</td>\n",
       "      <td>0</td>\n",
       "      <td>0.976042</td>\n",
       "      <td>9.526736</td>\n",
       "      <td>7.904226</td>\n",
       "      <td>NaN</td>\n",
       "    </tr>\n",
       "  </tbody>\n",
       "</table>\n",
       "<p>269334 rows × 7 columns</p>\n",
       "</div>"
      ],
      "text/plain": [
       "       Molecule_Name                                            Mol  Activity  \\\n",
       "0           14742361  <rdkit.Chem.rdchem.Mol object at 0x28ed05350>         1   \n",
       "1           14721919  <rdkit.Chem.rdchem.Mol object at 0x28ed06ed0>         1   \n",
       "2           14733740  <rdkit.Chem.rdchem.Mol object at 0x12975ba10>         1   \n",
       "3           51085197  <rdkit.Chem.rdchem.Mol object at 0x2a55613a0>         1   \n",
       "4           11532953  <rdkit.Chem.rdchem.Mol object at 0x2a5561440>         1   \n",
       "...              ...                                            ...       ...   \n",
       "269329      26665106  <rdkit.Chem.rdchem.Mol object at 0x434dac2c0>         0   \n",
       "269330        860318  <rdkit.Chem.rdchem.Mol object at 0x434dcc360>         0   \n",
       "269331       4244719  <rdkit.Chem.rdchem.Mol object at 0x434d9c3b0>         0   \n",
       "269332      26663220  <rdkit.Chem.rdchem.Mol object at 0x434dac450>         0   \n",
       "269333       4261347  <rdkit.Chem.rdchem.Mol object at 0x434dac540>         0   \n",
       "\n",
       "        r_i_docking_score   Total_E  Lower_Bound  Upper_Bound  \n",
       "0               -8.316990  7.743401     6.452040          NaN  \n",
       "1               -7.927560  9.862600     7.793637          NaN  \n",
       "2               -7.827030  9.336486     7.212523          NaN  \n",
       "3               -7.629630  7.962479     6.610545          inf  \n",
       "4               -7.589840  7.557015     5.150796          NaN  \n",
       "...                   ...       ...          ...          ...  \n",
       "269329           0.588781  0.988140     0.727169     1.279182  \n",
       "269330           0.776713  4.875106     4.118975          NaN  \n",
       "269331           0.866768  6.162786     5.536448          inf  \n",
       "269332           0.898282  4.117408     3.237282          NaN  \n",
       "269333           0.976042  9.526736     7.904226          NaN  \n",
       "\n",
       "[269334 rows x 7 columns]"
      ]
     },
     "execution_count": 46,
     "metadata": {},
     "output_type": "execute_result"
    }
   ],
   "source": [
    "all_data_subset = final_data[\n",
    "    [\n",
    "        \"Molecule_Name\",\n",
    "        \"Mol\",\n",
    "        \"Activity\",\n",
    "        \"r_i_docking_score\",\n",
    "        \"Total_E\",\n",
    "        \"Lower_Bound\",\n",
    "        \"Upper_Bound\",\n",
    "    ]\n",
    "].copy(deep=True)\n",
    "\n",
    "all_data_subset"
   ]
  },
  {
   "cell_type": "code",
   "execution_count": 47,
   "metadata": {},
   "outputs": [
    {
     "name": "stdout",
     "output_type": "stream",
     "text": [
      "There are 0 duplicates in the dataframe.\n"
     ]
    }
   ],
   "source": [
    "check_duplicates(all_data_subset)"
   ]
  },
  {
   "cell_type": "code",
   "execution_count": 48,
   "metadata": {},
   "outputs": [],
   "source": [
    "# Write the dataframe to a pickle file \n",
    "all_data_subset.to_pickle(\"all_data_subset_dedup.pkl\")"
   ]
  },
  {
   "cell_type": "code",
   "execution_count": null,
   "metadata": {},
   "outputs": [],
   "source": []
  }
 ],
 "metadata": {
  "kernelspec": {
   "display_name": "analytics_env",
   "language": "python",
   "name": "python3"
  },
  "language_info": {
   "codemirror_mode": {
    "name": "ipython",
    "version": 3
   },
   "file_extension": ".py",
   "mimetype": "text/x-python",
   "name": "python",
   "nbconvert_exporter": "python",
   "pygments_lexer": "ipython3",
   "version": "3.11.5"
  }
 },
 "nbformat": 4,
 "nbformat_minor": 2
}
